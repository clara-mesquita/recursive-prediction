{
 "cells": [
  {
   "cell_type": "code",
   "execution_count": 1,
   "id": "119af18f",
   "metadata": {},
   "outputs": [],
   "source": [
    "# Cell 1: Imports\n",
    "import pandas as pd\n",
    "import numpy as np\n",
    "from datetime import datetime, timedelta\n",
    "import matplotlib.pyplot as plt\n",
    "\n",
    "# Global: Define which day the dataset starts on (0 = Monday)\n",
    "WEEK_START_DAY = 0"
   ]
  },
  {
   "cell_type": "code",
   "execution_count": null,
   "id": "7cf8d025",
   "metadata": {},
   "outputs": [],
   "source": [
    "# Cell 2: Load and parse CSV\n",
    "# Replace with your actual file path\n",
    "df = pd.read_csv(\"bbr esmond data ap-ba 07-13-2024.csv\")\n",
    "\n",
    "# Ensure Timestamp is in datetime format\n",
    "df['Timestamp'] = pd.to_datetime(df['Timestamp'], unit='s', errors='coerce')\n",
    "\n",
    "# Sort by time just in case\n",
    "df = df.sort_values('Timestamp').reset_index(drop=True)\n",
    "\n",
    "df.head()\n"
   ]
  }
 ],
 "metadata": {
  "kernelspec": {
   "display_name": ".venv",
   "language": "python",
   "name": "python3"
  },
  "language_info": {
   "codemirror_mode": {
    "name": "ipython",
    "version": 3
   },
   "file_extension": ".py",
   "mimetype": "text/x-python",
   "name": "python",
   "nbconvert_exporter": "python",
   "pygments_lexer": "ipython3",
   "version": "3.12.10"
  }
 },
 "nbformat": 4,
 "nbformat_minor": 5
}
