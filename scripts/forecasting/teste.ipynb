{
 "cells": [
  {
   "cell_type": "code",
   "execution_count": 9,
   "id": "b26d9827",
   "metadata": {},
   "outputs": [
    {
     "name": "stdout",
     "output_type": "stream",
     "text": [
      "RMSE (manual) em Mbts: 34.7884\n"
     ]
    }
   ],
   "source": [
    "import pandas as pd\n",
    "import numpy as np\n",
    "from sklearn.metrics import mean_squared_error\n",
    "\n",
    "# 1) Ler o arquivo; a primeira coluna é só índice, então usamos index_col=0\n",
    "df = pd.read_csv(\"../../results/bi-lstm/forecast/prediction LSTM interpolacao-linear - treated bbr esmond data ap-ba 07-03-2023_longest_interval.csv.csv\", index_col=0)\n",
    "\n",
    "# 2–3) RMSE “na mão”\n",
    "rmse_manual = np.sqrt(((df[\"Prediction\"] - df[\"Test\"]) ** 2).mean())\n",
    "\n",
    "print(f\"RMSE (manual) em Mbts: {rmse_manual:.4f}\")"
   ]
  }
 ],
 "metadata": {
  "kernelspec": {
   "display_name": ".venv",
   "language": "python",
   "name": "python3"
  },
  "language_info": {
   "codemirror_mode": {
    "name": "ipython",
    "version": 3
   },
   "file_extension": ".py",
   "mimetype": "text/x-python",
   "name": "python",
   "nbconvert_exporter": "python",
   "pygments_lexer": "ipython3",
   "version": "3.12.3"
  }
 },
 "nbformat": 4,
 "nbformat_minor": 5
}
